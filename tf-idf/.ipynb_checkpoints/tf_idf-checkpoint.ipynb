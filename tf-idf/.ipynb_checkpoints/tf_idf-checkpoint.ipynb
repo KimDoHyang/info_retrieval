{
 "cells": [
  {
   "cell_type": "code",
   "execution_count": 1,
   "metadata": {},
   "outputs": [],
   "source": [
    "import nltk"
   ]
  },
  {
   "cell_type": "code",
   "execution_count": 2,
   "metadata": {},
   "outputs": [],
   "source": [
    "sentence = \"Hi. This is Tom. I have many cars.\"\n",
    "sentence = sentence.lower()"
   ]
  },
  {
   "cell_type": "code",
   "execution_count": 3,
   "metadata": {},
   "outputs": [],
   "source": [
    "# 문장 토큰화\n",
    "tokens = nltk.word_tokenize(sentence)"
   ]
  },
  {
   "cell_type": "code",
   "execution_count": 4,
   "metadata": {},
   "outputs": [
    {
     "data": {
      "text/plain": [
       "['hi', '.', 'this', 'is', 'tom', '.', 'i', 'have', 'many', 'cars', '.']"
      ]
     },
     "execution_count": 4,
     "metadata": {},
     "output_type": "execute_result"
    }
   ],
   "source": [
    "tokens"
   ]
  },
  {
   "cell_type": "code",
   "execution_count": 7,
   "metadata": {},
   "outputs": [],
   "source": [
    "# 토큰을 다시 문장으로 만들기\n",
    "text = nltk.Text(tokens)"
   ]
  },
  {
   "cell_type": "code",
   "execution_count": 8,
   "metadata": {},
   "outputs": [
    {
     "data": {
      "text/plain": [
       "<Text: hi . this is tom . i have...>"
      ]
     },
     "execution_count": 8,
     "metadata": {},
     "output_type": "execute_result"
    }
   ],
   "source": [
    "text"
   ]
  },
  {
   "cell_type": "code",
   "execution_count": 6,
   "metadata": {},
   "outputs": [
    {
     "name": "stdout",
     "output_type": "stream",
     "text": [
      "11\n"
     ]
    }
   ],
   "source": [
    "# 해당 텍스트의 토큰 개수\n",
    "print(len(text.tokens))"
   ]
  },
  {
   "cell_type": "code",
   "execution_count": 9,
   "metadata": {},
   "outputs": [
    {
     "name": "stdout",
     "output_type": "stream",
     "text": [
      "9\n"
     ]
    }
   ],
   "source": [
    "# 중복 제거한 토큰\n",
    "print(len(set(text.tokens)))"
   ]
  },
  {
   "cell_type": "code",
   "execution_count": 10,
   "metadata": {},
   "outputs": [
    {
     "data": {
      "text/plain": [
       "FreqDist({'.': 3, 'hi': 1, 'this': 1, 'is': 1, 'tom': 1, 'i': 1, 'have': 1, 'many': 1, 'cars': 1})"
      ]
     },
     "execution_count": 10,
     "metadata": {},
     "output_type": "execute_result"
    }
   ],
   "source": [
    "# 사용된 토큰의 frequency 추출\n",
    "text.vocab()"
   ]
  },
  {
   "cell_type": "code",
   "execution_count": 13,
   "metadata": {},
   "outputs": [
    {
     "data": {
      "image/png": "[encoded data removed]",
      "text/plain": [
       "<Figure size 432x288 with 1 Axes>"
      ]
     },
     "metadata": {
      "needs_background": "light"
     },
     "output_type": "display_data"
    }
   ],
   "source": [
    "# frequency의 그래프화\n",
    "%matplotlib inline\n",
    "text.plot(5)"
   ]
  },
  {
   "cell_type": "code",
   "execution_count": 14,
   "metadata": {},
   "outputs": [
    {
     "data": {
      "text/plain": [
       "3"
      ]
     },
     "execution_count": 14,
     "metadata": {},
     "output_type": "execute_result"
    }
   ],
   "source": [
    "# text의 특정 string 카운트\n",
    "text.count('.')"
   ]
  },
  {
   "cell_type": "code",
   "execution_count": 15,
   "metadata": {},
   "outputs": [
    {
     "data": {
      "text/plain": [
       "1"
      ]
     },
     "execution_count": 15,
     "metadata": {},
     "output_type": "execute_result"
    }
   ],
   "source": [
    "text.count('many')"
   ]
  },
  {
   "cell_type": "code",
   "execution_count": 17,
   "metadata": {},
   "outputs": [
    {
     "data": {
      "image/png": "[encoded data removed]",
      "text/plain": [
       "<Figure size 432x288 with 1 Axes>"
      ]
     },
     "metadata": {
      "needs_background": "light"
     },
     "output_type": "display_data"
    }
   ],
   "source": [
    "# 전체 텍스트의 흐름에서 어디쯤에서 등장하는지 보여준다.\n",
    "text.dispersion_plot(['.', 'many'])"
   ]
  },
  {
   "cell_type": "code",
   "execution_count": 18,
   "metadata": {},
   "outputs": [],
   "source": [
    "# 문장에 많이 등장하나, 큰 의미가 없는 단어들을 Stopwords로 설정한다.\n",
    "# 해당 단어들은 term frequency가 높기 때문에 방해가 된다\n",
    "from nltk.corpus import stopwords"
   ]
  },
  {
   "cell_type": "code",
   "execution_count": 19,
   "metadata": {},
   "outputs": [
    {
     "data": {
      "text/plain": [
       "['hi', '.', 'tom', '.', 'many', 'cars', '.']"
      ]
     },
     "execution_count": 19,
     "metadata": {},
     "output_type": "execute_result"
    }
   ],
   "source": [
    "# 미리 지정된 stopwords 말뭉치를 불러왔다.\n",
    "# 영어에서 자주 사용되는 stopwords 말뭉치\n",
    "# this, I, have가 사라졌다.\n",
    "stop = set(stopwords.words('english'))\n",
    "tokens = [i for i in tokens if i not in stop]\n",
    "tokens"
   ]
  },
  {
   "cell_type": "code",
   "execution_count": 20,
   "metadata": {},
   "outputs": [],
   "source": [
    "# Stemming : 어간 추출\n",
    "# 문법적 요소를 배제하고 단어가 내포하고 있는 뜻만 파악하기 위함\n",
    "# Stemmer의 종류는 여러가지"
   ]
  },
  {
   "cell_type": "code",
   "execution_count": 26,
   "metadata": {},
   "outputs": [
    {
     "name": "stdout",
     "output_type": "stream",
     "text": [
      "hi\n",
      ".\n",
      "tom\n",
      ".\n",
      "mani\n",
      "car\n",
      ".\n"
     ]
    }
   ],
   "source": [
    "# Porter Stemmer\n",
    "from nltk.stem.porter import PorterStemmer\n",
    "porter_stemmer = PorterStemmer()\n",
    "for token in tokens:\n",
    "    print(porter_stemmer.stem(token))"
   ]
  },
  {
   "cell_type": "code",
   "execution_count": 27,
   "metadata": {},
   "outputs": [
    {
     "name": "stdout",
     "output_type": "stream",
     "text": [
      "hi\n",
      ".\n",
      "tom\n",
      ".\n",
      "many\n",
      "car\n",
      ".\n"
     ]
    }
   ],
   "source": [
    "# Lancaster Stemmer\n",
    "from nltk.stem.lancaster import LancasterStemmer\n",
    "lancaster_stemmer = LancasterStemmer()\n",
    "for token in tokens:\n",
    "    print(lancaster_stemmer.stem(token))"
   ]
  },
  {
   "cell_type": "code",
   "execution_count": 28,
   "metadata": {},
   "outputs": [
    {
     "name": "stdout",
     "output_type": "stream",
     "text": [
      "hi\n",
      ".\n",
      "tom\n",
      ".\n",
      "mani\n",
      "car\n",
      ".\n"
     ]
    }
   ],
   "source": [
    "# Snowball Stemmer\n",
    "from nltk.stem import SnowballStemmer\n",
    "snowball_stemmer = SnowballStemmer(\"english\")\n",
    "for token in tokens:\n",
    "    print(snowball_stemmer.stem(token))"
   ]
  },
  {
   "cell_type": "code",
   "execution_count": 1,
   "metadata": {},
   "outputs": [],
   "source": [
    "import numpy as np"
   ]
  },
  {
   "cell_type": "code",
   "execution_count": 33,
   "metadata": {},
   "outputs": [
    {
     "data": {
      "text/plain": [
       "array([[ 1,  2,  3],\n",
       "       [ 8, 10, 12],\n",
       "       [21, 24, 27]])"
      ]
     },
     "execution_count": 33,
     "metadata": {},
     "output_type": "execute_result"
    }
   ],
   "source": [
    "# matrix * vector\n",
    "x = np.array(([1,2,3],[4,5,6],[7,8,9]))\n",
    "y = np.array(([1],[2],[3]))\n",
    "# 그대로 평행하게 곱한 결과가 나타난다.\n",
    "x*y"
   ]
  },
  {
   "cell_type": "code",
   "execution_count": 34,
   "metadata": {},
   "outputs": [
    {
     "data": {
      "text/plain": [
       "array([[14],\n",
       "       [32],\n",
       "       [50]])"
      ]
     },
     "execution_count": 34,
     "metadata": {},
     "output_type": "execute_result"
    }
   ],
   "source": [
    "# matrix.dot(vector)\n",
    "# 행렬곱 연산을 수행한 결과를 보여준다.(곱하고 더하기)\n",
    "x.dot(y)"
   ]
  },
  {
   "cell_type": "code",
   "execution_count": 52,
   "metadata": {},
   "outputs": [],
   "source": [
    "# np.sum(x, axis=?)"
   ]
  },
  {
   "cell_type": "markdown",
   "metadata": {},
   "source": [
    "## Document-Term Incidence Matrix"
   ]
  },
  {
   "cell_type": "code",
   "execution_count": 93,
   "metadata": {},
   "outputs": [],
   "source": [
    "import os\n",
    "import nltk\n",
    "from nltk.corpus import stopwords\n",
    "from nltk.stem import SnowballStemmer\n",
    "import math\n",
    "import operator\n",
    "\n",
    "\n",
    "# TF-IDF 계산식\n",
    "def tf_idf(tf, N, df):\n",
    "    return (math.log10(1 + tf))*(math.log10(N/df))\n",
    "\n",
    "# Cosine Similarity 계산식\n",
    "def cosine_similarity(x, y):\n",
    "    normalizing_factor_x = np.sqrt(np.sum(np.square(x)))\n",
    "    normalizing_factor_y = np.sqrt(np.sum(np.square(y)))\n",
    "    return np.matmul(x, np.transpose(y)/(normalizing_factor_x*normalizing_factor_y))\n",
    "\n",
    "# 리스트 공통 원소 추출 함수\n",
    "def common_list(x_list, y_list):\n",
    "    return list(set(x_list) & set(y_list))\n",
    "\n",
    "\n",
    "# 객체화\n",
    "class DocumentTermMatrix:\n",
    "    def __init__(self):\n",
    "        self.stopword_list = set(stopwords.words('english'))\n",
    "        self.snowball_stemmer = SnowballStemmer(\"english\")\n",
    "        \n",
    "        # document path\n",
    "        self.path = os.path.join('./', 'data')\n",
    "        self.file_list = sorted(os.listdir(path=self.path), key=lambda x: int(x.split('.')[0]))\n",
    "        \n",
    "        # query path\n",
    "        self.query_path = os.path.join('./', 'query')\n",
    "        self.query_file = os.listdir(path=self.query_path)\n",
    "        \n",
    "    # additional stopwords\n",
    "    def add_stopwords(self, additional_words):\n",
    "        self.stopword_list.update(additional_words)\n",
    "    \n",
    "    # document path update\n",
    "    def update_path(self, new_path):\n",
    "        self.path = new_path\n",
    "        self.file_list = sorted(os.listdir(path=self.path),key=lambda x: int(x.split('.')[0]))\n",
    "        \n",
    "    # query path update\n",
    "    def update_query_path(self, new_path):\n",
    "        self.query_path = new_path\n",
    "        self.query_file = os.listdir(path=self.query_path)\n",
    "    \n",
    "    # update language for stemmer\n",
    "    def update_stemmer_language(self, language):\n",
    "        self.stopword_list = set(stopwords.words(language))\n",
    "        self.snowball_stemmer = SnowballStemmer(language)\n",
    "\n",
    "        \n",
    "    # index\n",
    "    def all_terms(self):\n",
    "\n",
    "        # all terms in docs\n",
    "        term_list = []\n",
    "        \n",
    "        # 경로 내의 모든 파일에서 사용된 모든 토큰 리스트 생성\n",
    "        for index in range(0,len(self.file_list)):\n",
    "            with open(f\"{self.path}/{self.file_list[index]}\", 'r') as f:\n",
    "                data = f.read()\n",
    "            # tokenizing + filter stopwords + stemming\n",
    "            tokens = [self.snowball_stemmer.stem(token) for token in nltk.word_tokenize(data)\n",
    "                      if token not in self.stopword_list]\n",
    "            text = nltk.Text(tokens)\n",
    "            term_list += list(text.vocab().keys())\n",
    "            \n",
    "        # all terms in docs without duplicate\n",
    "        terms = sorted(list(set(term_list)))\n",
    "        return terms\n",
    "\n",
    "    # index\n",
    "    def index_dictionary(self):\n",
    "        \n",
    "        # Index Dictionary\n",
    "        index_dictionary = {}\n",
    "        \n",
    "        # 경로 내의 모든 파일에서 사용된 모든 토큰 리스트 생성\n",
    "        for index in range(0,len(self.file_list)):\n",
    "            with open(f\"{self.path}/{self.file_list[index]}\", 'r') as f:\n",
    "                data = f.read()\n",
    "            # tokenizing + filter stopwords + stemming\n",
    "            tokens = [self.snowball_stemmer.stem(token) for token in nltk.word_tokenize(data)\n",
    "                      if token not in self.stopword_list]\n",
    "            text = nltk.Text(tokens)\n",
    "            index_dictionary[self.file_list[index]] = text.vocab()\n",
    "        \n",
    "        return index_dictionary\n",
    "    \n",
    "    # inverted index\n",
    "    def inverted_dictionary(self):\n",
    "        \n",
    "        # Inverted Index Dictionary\n",
    "        inverted_dictionary = {}\n",
    "        all_terms = self.all_terms()\n",
    "        index_dictionary = self.index_dictionary()\n",
    "        \n",
    "        # inverted index by term created\n",
    "        for term in all_terms:\n",
    "            for doc, freq in index_dictionary.items():\n",
    "                if term in freq:\n",
    "                    if term not in inverted_dictionary:\n",
    "                        inverted_dictionary[term] = [doc]\n",
    "                    else:\n",
    "                        inverted_dictionary[term] += [doc]\n",
    "\n",
    "        return inverted_dictionary\n",
    "  \n",
    "    # Document-Term Incidence Matrix by TF-IDF\n",
    "    def create_matrix(self):\n",
    "        \n",
    "        all_terms = self.all_terms()\n",
    "        inverted_dictionary = self.inverted_dictionary()\n",
    "\n",
    "        # 경로 내의 모든 파일-모든 토큰에 대한 Document-Term Incidence Matrix\n",
    "        for index in range(0,len(self.file_list)):\n",
    "            with open(f\"{self.path}/{self.file_list[index]}\", 'r') as f:\n",
    "                data = f.read()\n",
    "            tokens = [self.snowball_stemmer.stem(token) for token in nltk.word_tokenize(data)\n",
    "                      if token not in self.stopword_list]\n",
    "            text = nltk.Text(tokens)\n",
    "\n",
    "            # 4900여개(모든 토큰 수)의 차원을 가진 영행렬\n",
    "            token_matrix = np.zeros(len(all_terms))\n",
    "\n",
    "            if index == 0:\n",
    "                for index, term in enumerate(all_terms):\n",
    "                    if term in text.vocab():\n",
    "                        # TF-IDF로 계산한 Weight를 Matrix로 채우기\n",
    "                        token_matrix[index] = tf_idf(text.vocab()[term], len(self.file_list), len(inverted_dictionary[term]))\n",
    "                doc_term_matrix = token_matrix\n",
    "\n",
    "            else:\n",
    "                for index, term in enumerate(all_terms):\n",
    "                    if term in text.vocab():\n",
    "                        token_matrix[index] = tf_idf(text.vocab()[term], len(self.file_list), len(inverted_dictionary[term]))\n",
    "                doc_term_matrix = np.vstack([doc_term_matrix, token_matrix])\n",
    "                \n",
    "        return doc_term_matrix\n",
    "    \n",
    "    # Query Doc-Term Incidence Matrix by TF-IDF\n",
    "    def create_query_matrix(self):\n",
    "        \n",
    "        all_terms = self.all_terms()\n",
    "        inverted_dictionary = self.inverted_dictionary()\n",
    "\n",
    "        # 경로 내의 query파일 토큰에 대한 Document-Term Incidence Matrix\n",
    "        with open(f\"{self.query_path}/{self.query_file[0]}\", 'r') as f:\n",
    "            data = f.read()\n",
    "        tokens = [self.snowball_stemmer.stem(token) for token in nltk.word_tokenize(data)\n",
    "                  if token not in self.stopword_list]\n",
    "        text = nltk.Text(tokens)\n",
    "\n",
    "        # 4900여개(모든 토큰 수)의 차원을 가진 영행렬\n",
    "        token_matrix = np.zeros(len(all_terms))\n",
    "\n",
    "        for index, term in enumerate(all_terms):\n",
    "            if term in text.vocab():\n",
    "                # TF-IDF로 계산한 Weight를 Matrix로 채우기\n",
    "                token_matrix[index] = tf_idf(text.vocab()[term], len(self.file_list), len(inverted_dictionary[term]))\n",
    "        doc_term_matrix = token_matrix\n",
    "\n",
    "        return doc_term_matrix\n",
    "    \n",
    "    \n",
    "    # Rank with Cosine Similarity between query&docs\n",
    "    def rank_documentations(self):\n",
    "        \n",
    "        inverted_dictionary = self.inverted_dictionary()\n",
    "        documentation_matrix = self.create_matrix()\n",
    "        query_matrix = self.create_query_matrix()\n",
    "        \n",
    "        rank = {}\n",
    "        \n",
    "        # 경로 내의 query파일 읽어들여 검색 키워드 확인하고 tokenize\n",
    "        with open(f\"{self.query_path}/{self.query_file[0]}\", 'r') as f:\n",
    "            data = f.read()\n",
    "        k_tokens = [self.snowball_stemmer.stem(token) for token in nltk.word_tokenize(data)\n",
    "                  if token not in self.stopword_list]\n",
    "        k_text = nltk.Text(k_tokens)\n",
    "\n",
    "        # N개의 키워드가 주어질 때, 해당 키워드들을 모두 포함하고 있는 문서 찾기\n",
    "        if len(k_tokens) == 1:\n",
    "            commons = inverted_dictionary[k_tokens[0]]\n",
    "\n",
    "        else:\n",
    "            i = 0\n",
    "            while i in range(len(k_tokens)-1):\n",
    "                inverted_dictionary[k_tokens[i+1]] = common_list(inverted_dictionary[k_tokens[i]], inverted_dictionary[k_tokens[i+1]])\n",
    "                i += 1\n",
    "            commons = inverted_dictionary[k_tokens[-1]]\n",
    "        \n",
    "        common_indexes = sorted([int(doc.split('.')[0]) + 1 for doc in commons], key=int)\n",
    "        for index in common_indexes:\n",
    "            rank[index-1] = cosine_similarity(query_matrix, documentation_matrix[index])\n",
    "        \n",
    "        return dict(sorted(rank.items(), key=operator.itemgetter(1), reverse=True)[:5])\n"
   ]
  },
  {
   "cell_type": "code",
   "execution_count": 94,
   "metadata": {
    "scrolled": true
   },
   "outputs": [
    {
     "data": {
      "text/plain": [
       "{53: 0.1385376590109018,\n",
       " 57: 0.08265168989438201,\n",
       " 47: 0.07363465883116009,\n",
       " 49: 0.06629725101967235,\n",
       " 46: 0.0649420890340909}"
      ]
     },
     "execution_count": 94,
     "metadata": {},
     "output_type": "execute_result"
    }
   ],
   "source": [
    "search = DocumentTermMatrix()\n",
    "additional_stopwords = ('.', ',', '\\'s', '!', ':', '[', ']', '?', ';', '``', 'a', 'an',  '#', '--', \"\\''\", \"\\'\", '(', ')')\n",
    "search.add_stopwords(additional_stopwords)\n",
    "search.rank_documentations()"
   ]
  },
  {
   "cell_type": "code",
   "execution_count": null,
   "metadata": {},
   "outputs": [],
   "source": []
  }
 ],
 "metadata": {
  "kernelspec": {
   "display_name": "info_retrieval",
   "language": "python",
   "name": "info_retrieval"
  },
  "language_info": {
   "codemirror_mode": {
    "name": "ipython",
    "version": 3
   },
   "file_extension": ".py",
   "mimetype": "text/x-python",
   "name": "python",
   "nbconvert_exporter": "python",
   "pygments_lexer": "ipython3",
   "version": "3.6.6"
  }
 },
 "nbformat": 4,
 "nbformat_minor": 2
}
